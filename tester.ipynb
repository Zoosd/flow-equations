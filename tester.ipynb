{
 "cells": [
  {
   "cell_type": "code",
   "execution_count": 1,
   "metadata": {},
   "outputs": [],
   "source": [
    "from flowequations import ODEs, basis, models\n",
    "from flowequations.trace import relative_trace_invariant_difference\n",
    "\n",
    "# Recommended\n",
    "import jax, os\n",
    "jax.config.update('jax_platform_name', 'cpu')       # or 'gpu' (preferred for L > 14)\n",
    "jax.config.update(\"jax_enable_x64\", True)           # Allows for double precision\n",
    "os.environ['XLA_PYTHON_CLIENT_MEM_FRACTION']='.75'  # How much memory to be preallocated"
   ]
  },
  {
   "cell_type": "code",
   "execution_count": 3,
   "metadata": {},
   "outputs": [
    {
     "name": "stdout",
     "output_type": "stream",
     "text": [
      "0\n",
      "1\n",
      "2\n",
      "3\n",
      "4\n",
      "Average relative trace invariant difference: 1.9819697061601167e-08\n"
     ]
    }
   ],
   "source": [
    "import numpy as np\n",
    "# Define system parameters:\n",
    "L = 8       # Number of sites\n",
    "W = 1.      # Disorder strength\n",
    "J = 1.      # Hopping strength\n",
    "Delta = 1.  # Interaction strength\n",
    "R = 5       # Number of disorder realizations\n",
    "\n",
    "H2 = models.tight_binding_model(L,W,J,R = R)         # shape (R,L,L) or (L,L) if R=1\n",
    "H4 = models.nearest_neighbour_interactions(L,Delta)  # shape (L,L,L,L)\n",
    "\n",
    "relative_trace_invariants = np.zeros(R)\n",
    "for i in range(R):\n",
    "    print(i)\n",
    "    H2_f, H4_f = ODEs.flow_equation(H2[i], H4, method = 'normal', n = 0.5)\n",
    "    relative_trace_invariants[i] = relative_trace_invariant_difference(H2[i], H4, H2_f, H4_f, 0.5)\n",
    "\n",
    "print('Average relative trace invariant difference:', np.average(relative_trace_invariants))\n",
    "\n",
    "\n"
   ]
  }
 ],
 "metadata": {
  "kernelspec": {
   "display_name": "base",
   "language": "python",
   "name": "python3"
  },
  "language_info": {
   "codemirror_mode": {
    "name": "ipython",
    "version": 3
   },
   "file_extension": ".py",
   "mimetype": "text/x-python",
   "name": "python",
   "nbconvert_exporter": "python",
   "pygments_lexer": "ipython3",
   "version": "3.10.9"
  }
 },
 "nbformat": 4,
 "nbformat_minor": 2
}
